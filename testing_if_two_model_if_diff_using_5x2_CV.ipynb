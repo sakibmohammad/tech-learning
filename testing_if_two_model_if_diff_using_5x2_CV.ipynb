{
  "nbformat": 4,
  "nbformat_minor": 0,
  "metadata": {
    "colab": {
      "provenance": []
    },
    "kernelspec": {
      "name": "python3",
      "display_name": "Python 3"
    },
    "language_info": {
      "name": "python"
    }
  },
  "cells": [
    {
      "cell_type": "code",
      "execution_count": null,
      "metadata": {
        "colab": {
          "base_uri": "https://localhost:8080/"
        },
        "id": "zx_APU0QvxHs",
        "outputId": "ad7b7876-1e5b-4008-e0fe-df3084d37c93"
      },
      "outputs": [
        {
          "output_type": "stream",
          "name": "stdout",
          "text": [
            "LogisticRegression Mean Accuracy: 0.894 (0.012)\n",
            "LinearDiscriminantAnalysis Mean Accuracy: 0.890 (0.013)\n",
            "P-value: 0.346, t-Statistic: 1.040\n",
            "Algorithms probably have the same performance\n"
          ]
        }
      ],
      "source": [
        "from numpy import mean\n",
        "from numpy import std\n",
        "from sklearn.datasets import make_classification\n",
        "from sklearn.model_selection import cross_val_score\n",
        "from sklearn.model_selection import RepeatedStratifiedKFold\n",
        "from sklearn.linear_model import LogisticRegression\n",
        "from sklearn.discriminant_analysis import LinearDiscriminantAnalysis\n",
        "from mlxtend.evaluate import paired_ttest_5x2cv\n",
        "X, y = make_classification(n_samples=1000, n_features=10, n_informative=10, n_redundant=0, random_state=1)\n",
        "model1 = LogisticRegression()\n",
        "cv1 = RepeatedStratifiedKFold(n_splits=2, n_repeats=5, random_state=1)\n",
        "scores1 = cross_val_score(model1, X, y, scoring='accuracy', cv=cv1, n_jobs=-1)\n",
        "print('LogisticRegression Mean Accuracy: %.3f (%.3f)' % (mean(scores1), std(scores1)))\n",
        "model2 = LinearDiscriminantAnalysis()\n",
        "cv2 = RepeatedStratifiedKFold(n_splits=2, n_repeats=5, random_state=1)\n",
        "scores2 = cross_val_score(model2, X, y, scoring='accuracy', cv=cv2, n_jobs=-1)\n",
        "print('LinearDiscriminantAnalysis Mean Accuracy: %.3f (%.3f)' % (mean(scores2), std(scores2)))\n",
        "t, p = paired_ttest_5x2cv(estimator1=model1, estimator2=model2, X=X, y=y, scoring='accuracy', random_seed=1)\n",
        "print('P-value: %.3f, t-Statistic: %.3f' % (p, t))\n",
        "if p <= 0.05:\n",
        "\tprint('Difference between mean performance is probably real')\n",
        "else:\n",
        "\tprint('Algorithms probably have the same performance')"
      ]
    }
  ]
}